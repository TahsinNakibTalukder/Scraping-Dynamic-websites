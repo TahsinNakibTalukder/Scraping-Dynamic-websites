{
 "cells": [
  {
   "cell_type": "code",
   "execution_count": 20,
   "metadata": {},
   "outputs": [
    {
     "name": "stderr",
     "output_type": "stream",
     "text": [
      "[WDM] - Current google-chrome version is 86.0.4240\n",
      "[WDM] - Get LATEST driver version for 86.0.4240\n",
      "[WDM] - Driver [/Users/tahsinturjo/.wdm/drivers/chromedriver/mac64/86.0.4240.22/chromedriver] found in cache\n"
     ]
    },
    {
     "name": "stdout",
     "output_type": "stream",
     "text": [
      " \n"
     ]
    }
   ],
   "source": [
    "from selenium import webdriver\n",
    "\n",
    "from webdriver_manager.chrome import ChromeDriverManager\n",
    "\n",
    "driver = webdriver.Chrome(ChromeDriverManager().install())"
   ]
  },
  {
   "cell_type": "code",
   "execution_count": 45,
   "metadata": {},
   "outputs": [],
   "source": [
    "import pandas as pd"
   ]
  },
  {
   "cell_type": "code",
   "execution_count": null,
   "metadata": {},
   "outputs": [],
   "source": []
  },
  {
   "cell_type": "code",
   "execution_count": 21,
   "metadata": {},
   "outputs": [],
   "source": [
    "url = 'https://www.youtube.com/c/ShowmikDas/videos?view=0&sort=p&flow=grid'"
   ]
  },
  {
   "cell_type": "code",
   "execution_count": 22,
   "metadata": {},
   "outputs": [],
   "source": [
    "driver = webdriver.Chrome(executable_path = '/Users/tahsinturjo/.wdm/drivers/chromedriver/mac64/86.0.4240.22/chromedriver')"
   ]
  },
  {
   "cell_type": "code",
   "execution_count": 23,
   "metadata": {},
   "outputs": [],
   "source": [
    "driver.get(url)"
   ]
  },
  {
   "cell_type": "code",
   "execution_count": null,
   "metadata": {},
   "outputs": [],
   "source": [
    "style-scope ytd-grid-video-renderer\n",
    "//*[@id=\"video-title\"]\n",
    "//*[@id=\"metadata-line\"]/span[1]\n",
    "//*[@id=\"metadata-line\"]/span[2]"
   ]
  },
  {
   "cell_type": "markdown",
   "metadata": {},
   "source": [
    "#### have to generate this below line everytime before running rest "
   ]
  },
  {
   "cell_type": "code",
   "execution_count": 43,
   "metadata": {},
   "outputs": [],
   "source": [
    "videos = driver.find_elements_by_class_name('style-scope ytd-grid-video-renderer')"
   ]
  },
  {
   "cell_type": "code",
   "execution_count": 55,
   "metadata": {},
   "outputs": [
    {
     "name": "stdout",
     "output_type": "stream",
     "text": [
      "                                                          View       Posted\n",
      "Title                                                                      \n",
      "ORIGIN- WRATH OF VISHNU Acoustic nylon string c...  6.7K views  6 years ago\n",
      "DEATH--- WITHOUT JUDGEMENT guitar cover by Show...  4.8K views  5 years ago\n",
      "HOMICIDE - SERPENT SENTINEL                         4.5K views  4 years ago\n",
      "Buckethead--- Binge and grab guitar cover by Sh...    2K views  5 years ago\n"
     ]
    }
   ],
   "source": [
    "video_list= []\n",
    "\n",
    "for video in videos:\n",
    "    title = video.find_element_by_xpath('.//*[@id=\"video-title\"]').text\n",
    "    views = video.find_element_by_xpath('.//*[@id=\"metadata-line\"]/span[1]').text\n",
    "    time = video.find_element_by_xpath('.//*[@id=\"metadata-line\"]/span[2]').text\n",
    "    vid_item = {\n",
    "        'Title': title,\n",
    "        'View': views,\n",
    "        'Posted': time\n",
    "    }\n",
    "    \n",
    "    video_list.append(vid_item)\n",
    "df = pd.DataFrame(video_list)\n",
    "# below line is to remove builtin index by python  \n",
    "df.set_index('Title', inplace = True)\n",
    "print(df)\n",
    "    "
   ]
  },
  {
   "cell_type": "code",
   "execution_count": null,
   "metadata": {},
   "outputs": [],
   "source": []
  },
  {
   "cell_type": "code",
   "execution_count": null,
   "metadata": {},
   "outputs": [],
   "source": []
  }
 ],
 "metadata": {
  "kernelspec": {
   "display_name": "Python 3",
   "language": "python",
   "name": "python3"
  },
  "language_info": {
   "codemirror_mode": {
    "name": "ipython",
    "version": 3
   },
   "file_extension": ".py",
   "mimetype": "text/x-python",
   "name": "python",
   "nbconvert_exporter": "python",
   "pygments_lexer": "ipython3",
   "version": "3.8.3"
  }
 },
 "nbformat": 4,
 "nbformat_minor": 4
}
